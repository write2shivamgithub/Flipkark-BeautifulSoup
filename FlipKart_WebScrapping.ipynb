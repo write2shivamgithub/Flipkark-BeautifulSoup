{
 "cells": [
  {
   "cell_type": "code",
   "execution_count": 5,
   "id": "59bfb607",
   "metadata": {},
   "outputs": [
    {
     "name": "stdout",
     "output_type": "stream",
     "text": [
      "                                         Name    Price Rating\n",
      "0                POCO C51 (Royal Blue, 64 GB)   ₹6,499    4.2\n",
      "1               POCO C51 (Power Black, 64 GB)   ₹6,499    4.2\n",
      "2           realme C53 (Champion Gold, 64 GB)  ₹10,999    4.6\n",
      "3          realme C53 (Champion Black, 64 GB)  ₹10,999    4.6\n",
      "4                POCO C50 (Royal Blue, 32 GB)   ₹5,499    4.2\n",
      "..                                        ...      ...    ...\n",
      "67  Infinix HOT 20 Play (Racing Black, 64 GB)   ₹7,999    4.4\n",
      "68         MOTOROLA e13 (Creamy White, 64 GB)   ₹6,499    3.9\n",
      "69                           KARBONN Jumbo K9   ₹1,287    N/A\n",
      "70                       SAMSUNG Guru Music 2   ₹2,890    4.3\n",
      "71                              Micromax X512   ₹1,149    3.9\n",
      "\n",
      "[72 rows x 3 columns]\n"
     ]
    }
   ],
   "source": [
    "import requests\n",
    "from bs4 import BeautifulSoup\n",
    "import pandas as pd\n",
    "\n",
    "flipkart = []\n",
    "\n",
    "for i in range(1, 10):\n",
    "    url = f'https://www.flipkart.com/search?q=phone&otracker=search&otracker1=search&marketplace=FLIPKART&as-show=on&as=off&page={i}'\n",
    "    html_text = requests.get(url).content\n",
    "    soup = BeautifulSoup(html_text, 'lxml')\n",
    "    boxes = soup.find_all('a', '_1fQZEK')\n",
    "    for box in boxes:\n",
    "        phone_data = {}\n",
    "\n",
    "        name_elem = box.find('div', '_4rR01T')\n",
    "        name = name_elem.get_text() if name_elem else \"N/A\"\n",
    "\n",
    "        price_elem = box.find('div', '_30jeq3 _1_WHN1')\n",
    "        price = price_elem.get_text() if price_elem else \"N/A\"\n",
    "\n",
    "        rating_elem = box.find('div', '_3LWZlK')\n",
    "        rating = rating_elem.get_text() if rating_elem else \"N/A\"\n",
    "\n",
    "        phone_data['Name'] = name\n",
    "        phone_data['Price'] = price\n",
    "        phone_data['Rating'] = rating\n",
    "        flipkart.append(phone_data)\n",
    "df = pd.json_normalize(flipkart)\n",
    "print(df)\n"
   ]
  },
  {
   "cell_type": "code",
   "execution_count": null,
   "id": "bd1ee82f",
   "metadata": {},
   "outputs": [],
   "source": []
  }
 ],
 "metadata": {
  "kernelspec": {
   "display_name": "Python 3 (ipykernel)",
   "language": "python",
   "name": "python3"
  },
  "language_info": {
   "codemirror_mode": {
    "name": "ipython",
    "version": 3
   },
   "file_extension": ".py",
   "mimetype": "text/x-python",
   "name": "python",
   "nbconvert_exporter": "python",
   "pygments_lexer": "ipython3",
   "version": "3.9.13"
  }
 },
 "nbformat": 4,
 "nbformat_minor": 5
}
